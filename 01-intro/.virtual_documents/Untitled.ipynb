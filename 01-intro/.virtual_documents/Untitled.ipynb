import pandas as pd


from sklearn.feature_extraction import DictVectorizer





!wget -P ./data https://d37ci6vzurychx.cloudfront.net/trip-data/yellow_tripdata_2023-01.parquet


!wget -P ./data https://d37ci6vzurychx.cloudfront.net/trip-data/yellow_tripdata_2023-02.parquet


!ls -lh data/


df=pd.read_parquet("./data/yellow_tripdata_2023-01.parquet")


print(f"Total Columns: {df.shape[1]}")





df.info()


df['duration']=df.tpep_dropoff_datetime - df.tpep_pickup_datetime
df['duration']=df['duration'].apply(lambda td:td.total_seconds()/60)


df['duration'].std()





df_fraction=df[(df.duration>=1) & (df.duration<=60)]


fraction_left_percentage=len(df_fraction)/len(df)*100



print(f"Fraction of records left: {fraction_left_percentage:.2f}%")





def read_dataframe(filename):
    
    df=pd.read_parquet(filename)

    df['duration']=df.tpep_dropoff_datetime - df.tpep_pickup_datetime
    df.duration=df.duration.apply(lambda td:td.total_seconds()/60)
    
    df=df[(df.duration>=1) & (df.duration<=60)]
    
    categorical=['PULocationID','DOLocationID']
    
    df[categorical]=df[categorical].astype(str)
    return df


df_train=read_dataframe("./data/yellow_tripdata_2023-01.parquet")
df_val=read_dataframe("./data/yellow_tripdata_2023-02.parquet")


len(df_train), len(df_val)


categorical = ['PULocationID', 'DOLocationID']


dv=DictVectorizer()
train_dicts=df_train[categorical].to_dict(orient="records")
X_train=dv.fit_transform(train_dicts)
val_dicts=df_val[categorical].to_dict(orient="records")
X_val=dv.transform(val_dicts)







X_train



