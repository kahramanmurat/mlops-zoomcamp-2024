import pandas as pd
import numpy as np


from sklearn.feature_extraction import DictVectorizer
from sklearn.linear_model import LinearRegression
from sklearn.metrics import mean_squared_error





!wget -P ./data https://d37ci6vzurychx.cloudfront.net/trip-data/yellow_tripdata_2023-01.parquet


!wget -P ./data https://d37ci6vzurychx.cloudfront.net/trip-data/yellow_tripdata_2023-02.parquet


!ls -lh data/


df=pd.read_parquet("./data/yellow_tripdata_2023-01.parquet")


print(f"Total Columns: {df.shape[1]}")





df.info()


df['duration']=df.tpep_dropoff_datetime - df.tpep_pickup_datetime
df['duration']=df['duration'].apply(lambda td:td.total_seconds()/60)


df['duration'].std()





new_df=df[(df.duration>=1) & (df.duration<=60)]


fraction_percentage=len(new_df)/len(df)*100



print(f"Fraction of records left: {fraction_percentage:.2f}%")





def read_dataframe(filename):
    
    df=pd.read_parquet(filename)

    df['duration']=df.tpep_dropoff_datetime - df.tpep_pickup_datetime
    df.duration=df.duration.apply(lambda td:td.total_seconds()/60)
    
    df=df[(df.duration>=1) & (df.duration<=60)]
    
    categorical=['PULocationID','DOLocationID']
    
    df[categorical]=df[categorical].astype(str)
    return df


df_train=read_dataframe("./data/yellow_tripdata_2023-01.parquet")


len(df_train)


categorical = ['PULocationID', 'DOLocationID']


dv=DictVectorizer()
train_dicts=df_train[categorical].to_dict(orient="records")
X_train=dv.fit_transform(train_dicts)







X_train.shape





target='duration'
y_train=df_train[target].values




lr=LinearRegression()
lr.fit(X_train,y_train)







# Making predictions on the training data
y_pred = lr.predict(X_train)


mean_squared_error(y_train,y_pred,squared=False)





df_val=read_dataframe("./data/yellow_tripdata_2023-02.parquet")


len(df_val)


val_dicts=df_val[categorical].to_dict(orient="records")
X_val=dv.transform(val_dicts)


y_val=df_val[target].values


y_pred=lr.predict(X_val)

mean_squared_error(y_val,y_pred,squared=False)



