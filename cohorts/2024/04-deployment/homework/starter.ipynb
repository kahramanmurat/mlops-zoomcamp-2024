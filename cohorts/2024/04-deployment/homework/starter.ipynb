{
 "cells": [
  {
   "cell_type": "code",
   "execution_count": 24,
   "id": "2c51efaa",
   "metadata": {},
   "outputs": [
    {
     "name": "stdout",
     "output_type": "stream",
     "text": [
      "scikit-learn==1.0.2\n"
     ]
    }
   ],
   "source": [
    "!pip freeze | grep scikit-learn"
   ]
  },
  {
   "cell_type": "code",
   "execution_count": 25,
   "id": "4acf73a0-51b5-4663-9bb8-8eb947863e17",
   "metadata": {},
   "outputs": [
    {
     "name": "stdout",
     "output_type": "stream",
     "text": [
      "Python 3.9.19\n"
     ]
    }
   ],
   "source": [
    "!python -V"
   ]
  },
  {
   "cell_type": "code",
   "execution_count": 26,
   "id": "0ef880a0",
   "metadata": {},
   "outputs": [],
   "source": [
    "import pickle\n",
    "import pandas as pd"
   ]
  },
  {
   "cell_type": "code",
   "execution_count": 27,
   "id": "7836ccfd",
   "metadata": {},
   "outputs": [
    {
     "name": "stderr",
     "output_type": "stream",
     "text": [
      "/home/ubuntu/anaconda3/envs/mlflow_env/lib/python3.9/site-packages/sklearn/base.py:329: UserWarning: Trying to unpickle estimator DictVectorizer from version 1.5.0 when using version 1.0.2. This might lead to breaking code or invalid results. Use at your own risk. For more info please refer to:\n",
      "https://scikit-learn.org/stable/modules/model_persistence.html#security-maintainability-limitations\n",
      "  warnings.warn(\n",
      "/home/ubuntu/anaconda3/envs/mlflow_env/lib/python3.9/site-packages/sklearn/base.py:329: UserWarning: Trying to unpickle estimator LinearRegression from version 1.5.0 when using version 1.0.2. This might lead to breaking code or invalid results. Use at your own risk. For more info please refer to:\n",
      "https://scikit-learn.org/stable/modules/model_persistence.html#security-maintainability-limitations\n",
      "  warnings.warn(\n"
     ]
    }
   ],
   "source": [
    "with open('model.bin', 'rb') as f_in:\n",
    "    dv, model = pickle.load(f_in)"
   ]
  },
  {
   "cell_type": "code",
   "execution_count": 28,
   "id": "41c08294",
   "metadata": {},
   "outputs": [],
   "source": [
    "categorical = ['PULocationID', 'DOLocationID']\n",
    "\n",
    "def read_data(filename):\n",
    "    df = pd.read_parquet(filename)\n",
    "    \n",
    "    df['duration'] = df.tpep_dropoff_datetime - df.tpep_pickup_datetime\n",
    "    df['duration'] = df.duration.dt.total_seconds() / 60\n",
    "\n",
    "    df = df[(df.duration >= 1) & (df.duration <= 60)].copy()\n",
    "\n",
    "    df[categorical] = df[categorical].fillna(-1).astype('int').astype('str')\n",
    "    \n",
    "    return df"
   ]
  },
  {
   "cell_type": "code",
   "execution_count": 29,
   "id": "c2b8e9df-b436-470c-9749-94aea71fb7cc",
   "metadata": {},
   "outputs": [],
   "source": [
    "year = 2023\n",
    "month = 3"
   ]
  },
  {
   "cell_type": "code",
   "execution_count": 30,
   "id": "4854399a",
   "metadata": {},
   "outputs": [],
   "source": [
    "df = read_data(f'https://d37ci6vzurychx.cloudfront.net/trip-data/yellow_tripdata_{year:04d}-{month:02d}.parquet')"
   ]
  },
  {
   "cell_type": "code",
   "execution_count": 31,
   "id": "6b50ae36-0b2a-4f1c-b708-1f83e81730dd",
   "metadata": {},
   "outputs": [],
   "source": [
    "# Create ride_id column\n",
    "df['ride_id'] = f'{year:04d}/{month:02d}_' + df.index.astype('str')"
   ]
  },
  {
   "cell_type": "code",
   "execution_count": 32,
   "id": "00127aaf-ae4a-4e40-8db9-3574cc53bc50",
   "metadata": {},
   "outputs": [],
   "source": [
    "# Prepare the data for prediction\n",
    "dicts = df[categorical].to_dict(orient='records')\n",
    "X_val = dv.transform(dicts)\n",
    "y_pred = model.predict(X_val)"
   ]
  },
  {
   "cell_type": "code",
   "execution_count": 33,
   "id": "2627ffc6-7c27-4682-81e2-ed098f3ac955",
   "metadata": {},
   "outputs": [
    {
     "name": "stdout",
     "output_type": "stream",
     "text": [
      "Standard deviation of predicted duration: 6.247488852238703\n"
     ]
    }
   ],
   "source": [
    "std_pred_duration = y_pred.std()\n",
    "print(f'Standard deviation of predicted duration: {std_pred_duration}')"
   ]
  },
  {
   "cell_type": "code",
   "execution_count": 34,
   "id": "362c6461-9eb2-4ebb-8191-19fd127526f1",
   "metadata": {},
   "outputs": [],
   "source": [
    "# Create result dataframe\n",
    "df_result = pd.DataFrame({'ride_id': df['ride_id'], 'predicted_duration': y_pred})"
   ]
  },
  {
   "cell_type": "code",
   "execution_count": 35,
   "id": "96f4da56-297a-44b8-a209-81eb833ae98e",
   "metadata": {},
   "outputs": [],
   "source": [
    "#Save result dataframe as parquet file\n",
    "output_file = 'result_2023-03.parquet'\n",
    "df_result.to_parquet(output_file, engine='pyarrow', compression=None, index=False)\n"
   ]
  },
  {
   "cell_type": "code",
   "execution_count": 36,
   "id": "8590668d-90ff-4909-add9-a329cb2b3bb9",
   "metadata": {},
   "outputs": [
    {
     "name": "stdout",
     "output_type": "stream",
     "text": [
      "total 66780\n",
      "-rw-rw-r-- 1 ubuntu ubuntu      221 Jun 17 04:14 Pipfile\n",
      "-rw-r--r-- 1 ubuntu ubuntu    18609 Jun 17 04:14 Pipfile.lock\n",
      "-rw-rw-r-- 1 ubuntu ubuntu    17376 Jun 11 03:35 model.bin\n",
      "-rw-rw-r-- 1 ubuntu ubuntu 68322651 Jun 17 04:28 result_2023-03.parquet\n",
      "-rw-rw-r-- 1 ubuntu ubuntu     5924 Jun 17 04:27 starter.ipynb\n",
      "-rw-rw-r-- 1 ubuntu ubuntu     1694 Jun 17 04:22 starter.py\n"
     ]
    }
   ],
   "source": [
    "!ls -l"
   ]
  },
  {
   "cell_type": "code",
   "execution_count": null,
   "id": "b7d836ea-765f-42ae-ae90-5ea9a70db5bc",
   "metadata": {},
   "outputs": [],
   "source": []
  }
 ],
 "metadata": {
  "kernelspec": {
   "display_name": "Python 3 (ipykernel)",
   "language": "python",
   "name": "python3"
  },
  "language_info": {
   "codemirror_mode": {
    "name": "ipython",
    "version": 3
   },
   "file_extension": ".py",
   "mimetype": "text/x-python",
   "name": "python",
   "nbconvert_exporter": "python",
   "pygments_lexer": "ipython3",
   "version": "3.9.19"
  }
 },
 "nbformat": 4,
 "nbformat_minor": 5
}
